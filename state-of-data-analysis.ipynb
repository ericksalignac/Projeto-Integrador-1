{
 "cells": [
  {
   "cell_type": "code",
   "execution_count": 1,
   "id": "e88def52",
   "metadata": {
    "_cell_guid": "b1076dfc-b9ad-4769-8c92-a6c4dae69d19",
    "_uuid": "8f2839f25d086af736a60e9eeb907d3b93b6e0e5",
    "execution": {
     "iopub.execute_input": "2024-08-17T15:18:18.832661Z",
     "iopub.status.busy": "2024-08-17T15:18:18.832251Z",
     "iopub.status.idle": "2024-08-17T15:18:19.713918Z",
     "shell.execute_reply": "2024-08-17T15:18:19.712652Z"
    },
    "papermill": {
     "duration": 0.89038,
     "end_time": "2024-08-17T15:18:19.716579",
     "exception": false,
     "start_time": "2024-08-17T15:18:18.826199",
     "status": "completed"
    },
    "tags": []
   },
   "outputs": [
    {
     "name": "stdout",
     "output_type": "stream",
     "text": [
      "/kaggle/input/state-of-data-brazil-2023/State_of_data_BR_2023_Kaggle - df_survey_2023.csv\n"
     ]
    }
   ],
   "source": [
    "# This Python 3 environment comes with many helpful analytics libraries installed\n",
    "# It is defined by the kaggle/python Docker image: https://github.com/kaggle/docker-python\n",
    "# For example, here's several helpful packages to load\n",
    "\n",
    "import numpy as np # linear algebra\n",
    "import pandas as pd # data processing, CSV file I/O (e.g. pd.read_csv)\n",
    "\n",
    "# Input data files are available in the read-only \"../input/\" directory\n",
    "# For example, running this (by clicking run or pressing Shift+Enter) will list all files under the input directory\n",
    "\n",
    "import os\n",
    "for dirname, _, filenames in os.walk('/kaggle/input'):\n",
    "    for filename in filenames:\n",
    "        print(os.path.join(dirname, filename))\n",
    "\n",
    "# You can write up to 20GB to the current directory (/kaggle/working/) that gets preserved as output when you create a version using \"Save & Run All\" \n",
    "# You can also write temporary files to /kaggle/temp/, but they won't be saved outside of the current session"
   ]
  },
  {
   "cell_type": "code",
   "execution_count": 2,
   "id": "98ffbab8",
   "metadata": {
    "execution": {
     "iopub.execute_input": "2024-08-17T15:18:19.726375Z",
     "iopub.status.busy": "2024-08-17T15:18:19.725923Z",
     "iopub.status.idle": "2024-08-17T15:18:20.310012Z",
     "shell.execute_reply": "2024-08-17T15:18:20.308700Z"
    },
    "papermill": {
     "duration": 0.59185,
     "end_time": "2024-08-17T15:18:20.312740",
     "exception": false,
     "start_time": "2024-08-17T15:18:19.720890",
     "status": "completed"
    },
    "tags": []
   },
   "outputs": [],
   "source": [
    "df = pd.read_csv('/kaggle/input/state-of-data-brazil-2023/State_of_data_BR_2023_Kaggle - df_survey_2023.csv')\n",
    "pd.set_option('display.max_columns', 50)"
   ]
  },
  {
   "cell_type": "code",
   "execution_count": 3,
   "id": "c7baab4a",
   "metadata": {
    "execution": {
     "iopub.execute_input": "2024-08-17T15:18:20.322688Z",
     "iopub.status.busy": "2024-08-17T15:18:20.322245Z",
     "iopub.status.idle": "2024-08-17T15:18:20.332113Z",
     "shell.execute_reply": "2024-08-17T15:18:20.330922Z"
    },
    "papermill": {
     "duration": 0.017793,
     "end_time": "2024-08-17T15:18:20.334742",
     "exception": false,
     "start_time": "2024-08-17T15:18:20.316949",
     "status": "completed"
    },
    "tags": []
   },
   "outputs": [],
   "source": [
    "df_backup = df.copy()"
   ]
  },
  {
   "cell_type": "code",
   "execution_count": 4,
   "id": "7e695994",
   "metadata": {
    "execution": {
     "iopub.execute_input": "2024-08-17T15:18:20.344725Z",
     "iopub.status.busy": "2024-08-17T15:18:20.344327Z",
     "iopub.status.idle": "2024-08-17T15:18:20.348887Z",
     "shell.execute_reply": "2024-08-17T15:18:20.347735Z"
    },
    "papermill": {
     "duration": 0.012208,
     "end_time": "2024-08-17T15:18:20.351183",
     "exception": false,
     "start_time": "2024-08-17T15:18:20.338975",
     "status": "completed"
    },
    "tags": []
   },
   "outputs": [],
   "source": [
    "# df = df_backup.copy()"
   ]
  },
  {
   "cell_type": "code",
   "execution_count": 5,
   "id": "e4765a22",
   "metadata": {
    "execution": {
     "iopub.execute_input": "2024-08-17T15:18:20.361716Z",
     "iopub.status.busy": "2024-08-17T15:18:20.360506Z",
     "iopub.status.idle": "2024-08-17T15:18:20.367182Z",
     "shell.execute_reply": "2024-08-17T15:18:20.366103Z"
    },
    "papermill": {
     "duration": 0.014113,
     "end_time": "2024-08-17T15:18:20.369375",
     "exception": false,
     "start_time": "2024-08-17T15:18:20.355262",
     "status": "completed"
    },
    "tags": []
   },
   "outputs": [],
   "source": [
    "def verifica_colunas(df, colunas_por_linha=8, fila = False):\n",
    "    colunas = df.columns\n",
    "    if fila:\n",
    "        for columns in df.columns:\n",
    "            print(columns)\n",
    "    else:\n",
    "        for i in range(0, len(colunas), colunas_por_linha):\n",
    "            print('\\t\\t'.join(colunas[i:i+colunas_por_linha]))"
   ]
  },
  {
   "cell_type": "code",
   "execution_count": 6,
   "id": "620dbd7b",
   "metadata": {
    "execution": {
     "iopub.execute_input": "2024-08-17T15:18:20.378827Z",
     "iopub.status.busy": "2024-08-17T15:18:20.378437Z",
     "iopub.status.idle": "2024-08-17T15:18:20.390708Z",
     "shell.execute_reply": "2024-08-17T15:18:20.389669Z"
    },
    "papermill": {
     "duration": 0.019541,
     "end_time": "2024-08-17T15:18:20.392873",
     "exception": false,
     "start_time": "2024-08-17T15:18:20.373332",
     "status": "completed"
    },
    "tags": []
   },
   "outputs": [
    {
     "data": {
      "text/plain": [
       "Index(['P0', 'P1_a', 'P1_a_1', 'P1_b', 'P1_c', 'P1_d', 'P1_e', 'P1_e_1',\n",
       "       'P1_e_2', 'P1_e_3',\n",
       "       ...\n",
       "       'P8_d_3', 'P8_d_4', 'P8_d_5', 'P8_d_6', 'P8_d_7', 'P8_d_8', 'P8_d_9',\n",
       "       'P8_d_10', 'P8_d_11', 'P8_d_12'],\n",
       "      dtype='object', length=399)"
      ]
     },
     "execution_count": 6,
     "metadata": {},
     "output_type": "execute_result"
    }
   ],
   "source": [
    "dict_cols= {}\n",
    "\n",
    "for column in df.columns:\n",
    "        column = column.replace(\"('\", '')\n",
    "        column = column.replace(\"', '\", '/*/')\n",
    "        column = column.replace(\"')\", '')\n",
    "\n",
    "        nome = column.split('/*/')[0].strip()\n",
    "        desc = column.split('/*/')[1]\n",
    "\n",
    "        dict_cols[nome] = desc\n",
    "\n",
    "df.columns = dict_cols.keys()\n",
    "\n",
    "df.columns"
   ]
  },
  {
   "cell_type": "code",
   "execution_count": 7,
   "id": "3776459a",
   "metadata": {
    "execution": {
     "iopub.execute_input": "2024-08-17T15:18:20.402867Z",
     "iopub.status.busy": "2024-08-17T15:18:20.402501Z",
     "iopub.status.idle": "2024-08-17T15:18:20.409508Z",
     "shell.execute_reply": "2024-08-17T15:18:20.408509Z"
    },
    "papermill": {
     "duration": 0.014656,
     "end_time": "2024-08-17T15:18:20.411767",
     "exception": false,
     "start_time": "2024-08-17T15:18:20.397111",
     "status": "completed"
    },
    "tags": []
   },
   "outputs": [
    {
     "data": {
      "text/plain": [
       "'Desenvolvendo modelos de Machine Learning com o objetivo de colocar em produção em sistemas (produtos de dados).'"
      ]
     },
     "execution_count": 7,
     "metadata": {},
     "output_type": "execute_result"
    }
   ],
   "source": [
    "dict_cols['P8_d_4']"
   ]
  },
  {
   "cell_type": "code",
   "execution_count": 8,
   "id": "957b83ad",
   "metadata": {
    "execution": {
     "iopub.execute_input": "2024-08-17T15:18:20.422450Z",
     "iopub.status.busy": "2024-08-17T15:18:20.421582Z",
     "iopub.status.idle": "2024-08-17T15:18:20.427643Z",
     "shell.execute_reply": "2024-08-17T15:18:20.426653Z"
    },
    "papermill": {
     "duration": 0.014344,
     "end_time": "2024-08-17T15:18:20.430329",
     "exception": false,
     "start_time": "2024-08-17T15:18:20.415985",
     "status": "completed"
    },
    "tags": []
   },
   "outputs": [
    {
     "name": "stdout",
     "output_type": "stream",
     "text": [
      "P0\t\tP1_a\t\tP1_a_1\t\tP1_b\t\tP1_c\t\tP1_d\t\tP1_e\t\tP1_e_1\n",
      "P1_e_2\t\tP1_e_3\t\tP1_e_4\t\tP1_f\t\tP1_f_1\t\tP1_f_2\t\tP1_f_3\t\tP1_f_4\n",
      "P1_f_5\t\tP1_f_6\t\tP1_f_7\t\tP1_f_8\t\tP1_f_9\t\tP1_g\t\tP1_i\t\tP1_i_1\n",
      "P1_i_2\t\tP1_j\t\tP1_k\t\tP1_l\t\tP1_m\t\tP2_a\t\tP2_b\t\tP2_c\n",
      "P2_d\t\tP2_e\t\tP2_f\t\tP2_g\t\tP2_h\t\tP2_i\t\tP2_j\t\tP2_k\n",
      "P2_l\t\tP2_l_1\t\tP2_l_2\t\tP2_l_3\t\tP2_l_4\t\tP2_l_5\t\tP2_l_6\t\tP2_l_7\n",
      "P2_m\t\tP2_n\t\tP2_o\t\tP2_o_1\t\tP2_o_2\t\tP2_o_3\t\tP2_o_4\t\tP2_o_5\n",
      "P2_o_6\t\tP2_o_7\t\tP2_o_8\t\tP2_o_9\t\tP2_o_10\t\tP2_q\t\tP2_r\t\tP2_s\n",
      "P2_t\t\tP3_a\t\tP3_b\t\tP3_b_1\t\tP3_b_2\t\tP3_b_3\t\tP3_b_4\t\tP3_b_5\n",
      "P3_b_6\t\tP3_b_7\t\tP3_b_8\t\tP3_b_9\t\tP3_c\t\tP3_c_1\t\tP3_c_2\t\tP3_c_3\n",
      "P3_c_4\t\tP3_c_5\t\tP3_c_6\t\tP3_c_7\t\tP3_c_8\t\tP3_c_9\t\tP3_c_10\t\tP3_c_11\n",
      "P3_d\t\tP3_d_1\t\tP3_d_2\t\tP3_d_3\t\tP3_d_4\t\tP3_d_5\t\tP3_d_6\t\tP3_d_7\n",
      "P3_d_8\t\tP3_d_9\t\tP3_d_10\t\tP3_d_11\t\tP3_d_12\t\tP3_d_13\t\tP3_d_14\t\tP3_e\n",
      "P3_f\t\tP3_f_1\t\tP3_f_2\t\tP3_f_3\t\tP3_f_4\t\tP3_f_5\t\tP3_f_6\t\tP3_f_7\n",
      "P3_f_8\t\tP3_g\t\tP3_g_1\t\tP3_g_2\t\tP3_g_3\t\tP3_g_4\t\tP3_g_5\t\tP3_g_6\n",
      "P3_g_7\t\tP3_g_8\t\tP3_g_9\t\tP4_a\t\tP4_a_1\t\tP4_b\t\tP4_b_1\t\tP4_b_2\n",
      "P4_b_3\t\tP4_b_4\t\tP4_b_5\t\tP4_b_6\t\tP4_b_7\t\tP4_b_8\t\tP4_c\t\tP4_c_1\n",
      "P4_c_2\t\tP4_c_3\t\tP4_c_4\t\tP4_c_5\t\tP4_c_6\t\tP4_c_7\t\tP4_c_8\t\tP4_d\n",
      "P4_d_1\t\tP4_d_2\t\tP4_d_3\t\tP4_d_4\t\tP4_d_5\t\tP4_d_6\t\tP4_d_7\t\tP4_d_8\n",
      "P4_d_9\t\tP4_d_10\t\tP4_d_11\t\tP4_d_12\t\tP4_d_13\t\tP4_d_14\t\tP4_d_15\t\tP4_e\n",
      "P4_f\t\tP4_g\t\tP4_g_1\t\tP4_g_2\t\tP4_g_3\t\tP4_g_4\t\tP4_g_5\t\tP4_g_6\n",
      "P4_g_7\t\tP4_g_8\t\tP4_g_9\t\tP4_g_10\t\tP4_g_11\t\tP4_g_12\t\tP4_g_13\t\tP4_g_14\n",
      "P4_g_15\t\tP4_g_16\t\tP4_g_17\t\tP4_g_18\t\tP4_g_19\t\tP4_g_20\t\tP4_g_21\t\tP4_g_22\n",
      "P4_g_23\t\tP4_g_24\t\tP4_g_25\t\tP4_g_26\t\tP4_g_27\t\tP4_g_28\t\tP4_g_29\t\tP4_g_30\n",
      "P4_g_31\t\tP4_g_32\t\tP4_g_33\t\tP4_h\t\tP4_h_1\t\tP4_h_2\t\tP4_h_3\t\tP4_h_4\n",
      "P4_h_5\t\tP4_h_6\t\tP4_h_7\t\tP4_i\t\tP4_j\t\tP4_j_1\t\tP4_j_2\t\tP4_j_3\n",
      "P4_j_4\t\tP4_j_5\t\tP4_j_6\t\tP4_j_7\t\tP4_j_8\t\tP4_j_9\t\tP4_j_10\t\tP4_j_11\n",
      "P4_j_12\t\tP4_j_13\t\tP4_j_14\t\tP4_j_15\t\tP4_j_16\t\tP4_j_17\t\tP4_j_18\t\tP4_j_19\n",
      "P4_j_20\t\tP4_j_21\t\tP4_j_22\t\tP4_j_23\t\tP4_k\t\tP4_l\t\tP4_l_1\t\tP4_l_2\n",
      "P4_l_3\t\tP4_l_4\t\tP4_l_5\t\tP4_l_6\t\tP4_l_7\t\tP4_l_8\t\tP4_m\t\tP4_m_1\n",
      "P4_m_2\t\tP4_m_3\t\tP4_m_4\t\tP4_m_5\t\tP5_a\t\tP5_b\t\tP5_c\t\tP5_d\n",
      "P6_a\t\tP6_a_1\t\tP6_a_2\t\tP6_a_3\t\tP6_a_4\t\tP6_a_5\t\tP6_a_6\t\tP6_a_7\n",
      "P6_a_8\t\tP6_a_9\t\tP6_b\t\tP6_b_1\t\tP6_b_2\t\tP6_b_3\t\tP6_b_4\t\tP6_b_5\n",
      "P6_b_6\t\tP6_b_7\t\tP6_b_8\t\tP6_b_9\t\tP6_b_10\t\tP6_b_11\t\tP6_b_12\t\tP6_b_13\n",
      "P6_b_14\t\tP6_b_15\t\tP6_b_16\t\tP6_b_17\t\tP6_b_18\t\tP6_b_19\t\tP6_b_20\t\tP6_b_21\n",
      "P6_c\t\tP6_d\t\tP6_e\t\tP6_f\t\tP6_g\t\tP6_h\t\tP6_h_1\t\tP6_h_2\n",
      "P6_h_3\t\tP6_h_4\t\tP6_h_5\t\tP6_h_6\t\tP6_h_7\t\tP6_h_8\t\tP6_h_9\t\tP7_1\n",
      "P7_a_1\t\tP7_a_2\t\tP7_a_3\t\tP7_a_4\t\tP7_a_5\t\tP7_a_6\t\tP7_a_7\t\tP7_a_8\n",
      "P7_a_9\t\tP7_a_10\t\tP7_b\t\tP7_b_1\t\tP7_b_2\t\tP7_b_3\t\tP7_b_4\t\tP7_b_5\n",
      "P7_b_6\t\tP7_b_7\t\tP7_b_8\t\tP7_b_9\t\tP7_b_10\t\tP7_b_11\t\tP7_b_12\t\tP7_b_13\n",
      "P7_b_14\t\tP7_b_15\t\tP7_b_16\t\tP7_b_17\t\tP7_b_18\t\tP7_b_19\t\tP7_b_20\t\tP7_b_21\n",
      "P7_c\t\tP7_c_1\t\tP7_c_2\t\tP7_c_3\t\tP7_c_4\t\tP7_c_5\t\tP7_c_6\t\tP7_d\n",
      "P7_d_1\t\tP7_d_2\t\tP7_d_3\t\tP7_d_4\t\tP7_d_5\t\tP7_d_6\t\tP7_d_7\t\tP7_d_8\n",
      "P7_d_9\t\tP7_d_10\t\tP8_a\t\tP8_a_1\t\tP8_a_2\t\tP8_a_3\t\tP8_a_4\t\tP8_a_5\n",
      "P8_a_6\t\tP8_a_7\t\tP8_a_8\t\tP8_a_9\t\tP8_a_10\t\tP8_a_11\t\tP8_a_12\t\tP8_b\n",
      "P8_b_1\t\tP8_b_2\t\tP8_b_3\t\tP8_b_4\t\tP8_b_5\t\tP8_b_6\t\tP8_b_7\t\tP8_b_8\n",
      "P8_b_9\t\tP8_b_10\t\tP8_b_11\t\tP8_b_12\t\tP8_b_13\t\tP8_b_14\t\tP8_3\t\tP8_c_1\n",
      "P8_c_2\t\tP8_c_3\t\tP8_c_4\t\tP8_c_5\t\tP8_c_6\t\tP8_c_7\t\tP8_c_8\t\tP8_c_9\n",
      "P8_c_10\t\tP8_c_11\t\tP8_d\t\tP8_d_1\t\tP8_d_2\t\tP8_d_3\t\tP8_d_4\t\tP8_d_5\n",
      "P8_d_6\t\tP8_d_7\t\tP8_d_8\t\tP8_d_9\t\tP8_d_10\t\tP8_d_11\t\tP8_d_12\n"
     ]
    }
   ],
   "source": [
    "verifica_colunas(df)"
   ]
  },
  {
   "cell_type": "markdown",
   "id": "ef25a884",
   "metadata": {
    "papermill": {
     "duration": 0.004171,
     "end_time": "2024-08-17T15:18:20.438973",
     "exception": false,
     "start_time": "2024-08-17T15:18:20.434802",
     "status": "completed"
    },
    "tags": []
   },
   "source": [
    "### Importações"
   ]
  },
  {
   "cell_type": "code",
   "execution_count": 9,
   "id": "8b3962c6",
   "metadata": {
    "execution": {
     "iopub.execute_input": "2024-08-17T15:18:20.449176Z",
     "iopub.status.busy": "2024-08-17T15:18:20.448831Z",
     "iopub.status.idle": "2024-08-17T15:18:21.769993Z",
     "shell.execute_reply": "2024-08-17T15:18:21.769050Z"
    },
    "papermill": {
     "duration": 1.329204,
     "end_time": "2024-08-17T15:18:21.772499",
     "exception": false,
     "start_time": "2024-08-17T15:18:20.443295",
     "status": "completed"
    },
    "tags": []
   },
   "outputs": [],
   "source": [
    "import matplotlib.pyplot as plt\n",
    "import seaborn as sns"
   ]
  },
  {
   "cell_type": "markdown",
   "id": "7c3a6012",
   "metadata": {
    "papermill": {
     "duration": 0.004168,
     "end_time": "2024-08-17T15:18:21.781188",
     "exception": false,
     "start_time": "2024-08-17T15:18:21.777020",
     "status": "completed"
    },
    "tags": []
   },
   "source": [
    "# Para começar as análises, defini uma série de perguntas:"
   ]
  },
  {
   "cell_type": "markdown",
   "id": "ec1d3abe",
   "metadata": {
    "papermill": {
     "duration": 0.004172,
     "end_time": "2024-08-17T15:18:21.789755",
     "exception": false,
     "start_time": "2024-08-17T15:18:21.785583",
     "status": "completed"
    },
    "tags": []
   },
   "source": [
    "Quais os principais critérios que você leva em consideração no momento de decidir onde trabalhar por faixa de idade e faixa salarialQuais os principais critérios que você leva em consideração no momento de decidir onde trabalhar por faixa de idade e faixa salarial\n",
    "\n",
    "trabalho remoto x presencial (análises relacionando salario, idades e tempo de experiência com dados)\n",
    "\n",
    "tempo de experiência e idade para atingir certa remuneração ou cargo\n",
    "\n",
    "Cargos mais bem remunerados por faixa de idade e tempo de experiência\n",
    "\n",
    "Qual a idade/tempo de experiência em dados e remuneração das pessoas que estão trabalhando com tecnologias interessantes?\n",
    "\n",
    "O que é necessário para uma pessoa de 18-24 anos conseguir remunerações mais altas?\n",
    "\n",
    "A partir de que nível de conhecimento um profissional jovem e técnico passa a receber mais do que um gestor?"
   ]
  },
  {
   "cell_type": "markdown",
   "id": "3a92372a",
   "metadata": {
    "papermill": {
     "duration": 0.004087,
     "end_time": "2024-08-17T15:18:21.798243",
     "exception": false,
     "start_time": "2024-08-17T15:18:21.794156",
     "status": "completed"
    },
    "tags": []
   },
   "source": [
    "### Quais os principais critérios que você leva em consideração no momento de decidir onde trabalhar por faixa de idade e faixa salarial"
   ]
  },
  {
   "cell_type": "code",
   "execution_count": 10,
   "id": "179d88fb",
   "metadata": {
    "execution": {
     "iopub.execute_input": "2024-08-17T15:18:21.809374Z",
     "iopub.status.busy": "2024-08-17T15:18:21.808561Z",
     "iopub.status.idle": "2024-08-17T15:18:21.860407Z",
     "shell.execute_reply": "2024-08-17T15:18:21.859373Z"
    },
    "papermill": {
     "duration": 0.059937,
     "end_time": "2024-08-17T15:18:21.862683",
     "exception": false,
     "start_time": "2024-08-17T15:18:21.802746",
     "status": "completed"
    },
    "tags": []
   },
   "outputs": [
    {
     "data": {
      "text/html": [
       "<div>\n",
       "<style scoped>\n",
       "    .dataframe tbody tr th:only-of-type {\n",
       "        vertical-align: middle;\n",
       "    }\n",
       "\n",
       "    .dataframe tbody tr th {\n",
       "        vertical-align: top;\n",
       "    }\n",
       "\n",
       "    .dataframe thead th {\n",
       "        text-align: right;\n",
       "    }\n",
       "</style>\n",
       "<table border=\"1\" class=\"dataframe\">\n",
       "  <thead>\n",
       "    <tr style=\"text-align: right;\">\n",
       "      <th></th>\n",
       "      <th>P1_a_1</th>\n",
       "      <th>P2_h</th>\n",
       "      <th>P2_o</th>\n",
       "      <th>P2_o_1</th>\n",
       "      <th>P2_o_2</th>\n",
       "      <th>P2_o_3</th>\n",
       "      <th>P2_o_4</th>\n",
       "      <th>P2_o_5</th>\n",
       "      <th>P2_o_6</th>\n",
       "      <th>P2_o_7</th>\n",
       "      <th>P2_o_8</th>\n",
       "      <th>P2_o_9</th>\n",
       "      <th>P2_o_10</th>\n",
       "      <th>Não responderam</th>\n",
       "    </tr>\n",
       "  </thead>\n",
       "  <tbody>\n",
       "    <tr>\n",
       "      <th>0</th>\n",
       "      <td>30-34</td>\n",
       "      <td>de R$ 12.001/mês a R$ 16.000/mês</td>\n",
       "      <td>Flexibilidade de trabalho remoto, Remuneração/...</td>\n",
       "      <td>1.0</td>\n",
       "      <td>0.0</td>\n",
       "      <td>0.0</td>\n",
       "      <td>1.0</td>\n",
       "      <td>0.0</td>\n",
       "      <td>1.0</td>\n",
       "      <td>0.0</td>\n",
       "      <td>0.0</td>\n",
       "      <td>0.0</td>\n",
       "      <td>0.0</td>\n",
       "      <td>0.0</td>\n",
       "    </tr>\n",
       "    <tr>\n",
       "      <th>1</th>\n",
       "      <td>30-34</td>\n",
       "      <td>de R$ 6.001/mês a R$ 8.000/mês</td>\n",
       "      <td>Remuneração/Salário, Benefícios, Flexibilidade...</td>\n",
       "      <td>1.0</td>\n",
       "      <td>1.0</td>\n",
       "      <td>0.0</td>\n",
       "      <td>1.0</td>\n",
       "      <td>0.0</td>\n",
       "      <td>0.0</td>\n",
       "      <td>0.0</td>\n",
       "      <td>0.0</td>\n",
       "      <td>0.0</td>\n",
       "      <td>0.0</td>\n",
       "      <td>0.0</td>\n",
       "    </tr>\n",
       "    <tr>\n",
       "      <th>2</th>\n",
       "      <td>35-39</td>\n",
       "      <td>de R$ 6.001/mês a R$ 8.000/mês</td>\n",
       "      <td>Flexibilidade de trabalho remoto, Remuneração/...</td>\n",
       "      <td>1.0</td>\n",
       "      <td>0.0</td>\n",
       "      <td>0.0</td>\n",
       "      <td>1.0</td>\n",
       "      <td>1.0</td>\n",
       "      <td>0.0</td>\n",
       "      <td>0.0</td>\n",
       "      <td>0.0</td>\n",
       "      <td>0.0</td>\n",
       "      <td>0.0</td>\n",
       "      <td>0.0</td>\n",
       "    </tr>\n",
       "    <tr>\n",
       "      <th>3</th>\n",
       "      <td>22-24</td>\n",
       "      <td>NaN</td>\n",
       "      <td>Não responderam</td>\n",
       "      <td>NaN</td>\n",
       "      <td>NaN</td>\n",
       "      <td>NaN</td>\n",
       "      <td>NaN</td>\n",
       "      <td>NaN</td>\n",
       "      <td>NaN</td>\n",
       "      <td>NaN</td>\n",
       "      <td>NaN</td>\n",
       "      <td>NaN</td>\n",
       "      <td>NaN</td>\n",
       "      <td>1.0</td>\n",
       "    </tr>\n",
       "    <tr>\n",
       "      <th>4</th>\n",
       "      <td>30-34</td>\n",
       "      <td>de R$ 4.001/mês a R$ 6.000/mês</td>\n",
       "      <td>Remuneração/Salário, Flexibilidade de trabalho...</td>\n",
       "      <td>1.0</td>\n",
       "      <td>0.0</td>\n",
       "      <td>0.0</td>\n",
       "      <td>1.0</td>\n",
       "      <td>0.0</td>\n",
       "      <td>0.0</td>\n",
       "      <td>1.0</td>\n",
       "      <td>0.0</td>\n",
       "      <td>0.0</td>\n",
       "      <td>0.0</td>\n",
       "      <td>0.0</td>\n",
       "    </tr>\n",
       "    <tr>\n",
       "      <th>...</th>\n",
       "      <td>...</td>\n",
       "      <td>...</td>\n",
       "      <td>...</td>\n",
       "      <td>...</td>\n",
       "      <td>...</td>\n",
       "      <td>...</td>\n",
       "      <td>...</td>\n",
       "      <td>...</td>\n",
       "      <td>...</td>\n",
       "      <td>...</td>\n",
       "      <td>...</td>\n",
       "      <td>...</td>\n",
       "      <td>...</td>\n",
       "      <td>...</td>\n",
       "    </tr>\n",
       "    <tr>\n",
       "      <th>5288</th>\n",
       "      <td>30-34</td>\n",
       "      <td>de R$ 20.001/mês a R$ 25.000/mês</td>\n",
       "      <td>Flexibilidade de trabalho remoto, Oportunidade...</td>\n",
       "      <td>0.0</td>\n",
       "      <td>0.0</td>\n",
       "      <td>0.0</td>\n",
       "      <td>1.0</td>\n",
       "      <td>0.0</td>\n",
       "      <td>1.0</td>\n",
       "      <td>0.0</td>\n",
       "      <td>0.0</td>\n",
       "      <td>0.0</td>\n",
       "      <td>1.0</td>\n",
       "      <td>0.0</td>\n",
       "    </tr>\n",
       "    <tr>\n",
       "      <th>5289</th>\n",
       "      <td>30-34</td>\n",
       "      <td>de R$ 8.001/mês a R$ 12.000/mês</td>\n",
       "      <td>Flexibilidade de trabalho remoto, Ambiente e c...</td>\n",
       "      <td>0.0</td>\n",
       "      <td>0.0</td>\n",
       "      <td>0.0</td>\n",
       "      <td>1.0</td>\n",
       "      <td>1.0</td>\n",
       "      <td>0.0</td>\n",
       "      <td>1.0</td>\n",
       "      <td>0.0</td>\n",
       "      <td>0.0</td>\n",
       "      <td>0.0</td>\n",
       "      <td>0.0</td>\n",
       "    </tr>\n",
       "    <tr>\n",
       "      <th>5290</th>\n",
       "      <td>25-29</td>\n",
       "      <td>de R$ 8.001/mês a R$ 12.000/mês</td>\n",
       "      <td>Oportunidade de aprendizado e trabalhar com re...</td>\n",
       "      <td>1.0</td>\n",
       "      <td>0.0</td>\n",
       "      <td>0.0</td>\n",
       "      <td>0.0</td>\n",
       "      <td>0.0</td>\n",
       "      <td>1.0</td>\n",
       "      <td>0.0</td>\n",
       "      <td>1.0</td>\n",
       "      <td>0.0</td>\n",
       "      <td>0.0</td>\n",
       "      <td>0.0</td>\n",
       "    </tr>\n",
       "    <tr>\n",
       "      <th>5291</th>\n",
       "      <td>30-34</td>\n",
       "      <td>NaN</td>\n",
       "      <td>Não responderam</td>\n",
       "      <td>NaN</td>\n",
       "      <td>NaN</td>\n",
       "      <td>NaN</td>\n",
       "      <td>NaN</td>\n",
       "      <td>NaN</td>\n",
       "      <td>NaN</td>\n",
       "      <td>NaN</td>\n",
       "      <td>NaN</td>\n",
       "      <td>NaN</td>\n",
       "      <td>NaN</td>\n",
       "      <td>1.0</td>\n",
       "    </tr>\n",
       "    <tr>\n",
       "      <th>5292</th>\n",
       "      <td>30-34</td>\n",
       "      <td>NaN</td>\n",
       "      <td>Não responderam</td>\n",
       "      <td>NaN</td>\n",
       "      <td>NaN</td>\n",
       "      <td>NaN</td>\n",
       "      <td>NaN</td>\n",
       "      <td>NaN</td>\n",
       "      <td>NaN</td>\n",
       "      <td>NaN</td>\n",
       "      <td>NaN</td>\n",
       "      <td>NaN</td>\n",
       "      <td>NaN</td>\n",
       "      <td>1.0</td>\n",
       "    </tr>\n",
       "  </tbody>\n",
       "</table>\n",
       "<p>5293 rows × 14 columns</p>\n",
       "</div>"
      ],
      "text/plain": [
       "     P1_a_1                              P2_h  \\\n",
       "0     30-34  de R$ 12.001/mês a R$ 16.000/mês   \n",
       "1     30-34    de R$ 6.001/mês a R$ 8.000/mês   \n",
       "2     35-39    de R$ 6.001/mês a R$ 8.000/mês   \n",
       "3     22-24                               NaN   \n",
       "4     30-34    de R$ 4.001/mês a R$ 6.000/mês   \n",
       "...     ...                               ...   \n",
       "5288  30-34  de R$ 20.001/mês a R$ 25.000/mês   \n",
       "5289  30-34   de R$ 8.001/mês a R$ 12.000/mês   \n",
       "5290  25-29   de R$ 8.001/mês a R$ 12.000/mês   \n",
       "5291  30-34                               NaN   \n",
       "5292  30-34                               NaN   \n",
       "\n",
       "                                                   P2_o  P2_o_1  P2_o_2  \\\n",
       "0     Flexibilidade de trabalho remoto, Remuneração/...     1.0     0.0   \n",
       "1     Remuneração/Salário, Benefícios, Flexibilidade...     1.0     1.0   \n",
       "2     Flexibilidade de trabalho remoto, Remuneração/...     1.0     0.0   \n",
       "3                                       Não responderam     NaN     NaN   \n",
       "4     Remuneração/Salário, Flexibilidade de trabalho...     1.0     0.0   \n",
       "...                                                 ...     ...     ...   \n",
       "5288  Flexibilidade de trabalho remoto, Oportunidade...     0.0     0.0   \n",
       "5289  Flexibilidade de trabalho remoto, Ambiente e c...     0.0     0.0   \n",
       "5290  Oportunidade de aprendizado e trabalhar com re...     1.0     0.0   \n",
       "5291                                    Não responderam     NaN     NaN   \n",
       "5292                                    Não responderam     NaN     NaN   \n",
       "\n",
       "      P2_o_3  P2_o_4  P2_o_5  P2_o_6  P2_o_7  P2_o_8  P2_o_9  P2_o_10  \\\n",
       "0        0.0     1.0     0.0     1.0     0.0     0.0     0.0      0.0   \n",
       "1        0.0     1.0     0.0     0.0     0.0     0.0     0.0      0.0   \n",
       "2        0.0     1.0     1.0     0.0     0.0     0.0     0.0      0.0   \n",
       "3        NaN     NaN     NaN     NaN     NaN     NaN     NaN      NaN   \n",
       "4        0.0     1.0     0.0     0.0     1.0     0.0     0.0      0.0   \n",
       "...      ...     ...     ...     ...     ...     ...     ...      ...   \n",
       "5288     0.0     1.0     0.0     1.0     0.0     0.0     0.0      1.0   \n",
       "5289     0.0     1.0     1.0     0.0     1.0     0.0     0.0      0.0   \n",
       "5290     0.0     0.0     0.0     1.0     0.0     1.0     0.0      0.0   \n",
       "5291     NaN     NaN     NaN     NaN     NaN     NaN     NaN      NaN   \n",
       "5292     NaN     NaN     NaN     NaN     NaN     NaN     NaN      NaN   \n",
       "\n",
       "      Não responderam  \n",
       "0                 0.0  \n",
       "1                 0.0  \n",
       "2                 0.0  \n",
       "3                 1.0  \n",
       "4                 0.0  \n",
       "...               ...  \n",
       "5288              0.0  \n",
       "5289              0.0  \n",
       "5290              0.0  \n",
       "5291              1.0  \n",
       "5292              1.0  \n",
       "\n",
       "[5293 rows x 14 columns]"
      ]
     },
     "execution_count": 10,
     "metadata": {},
     "output_type": "execute_result"
    }
   ],
   "source": [
    "df_p1 = df[['P1_a_1', 'P2_h', 'P2_o', 'P2_o_1', 'P2_o_2', 'P2_o_3', 'P2_o_4', 'P2_o_5', 'P2_o_6', 'P2_o_7', 'P2_o_8', 'P2_o_9', 'P2_o_10']].copy()\n",
    "\n",
    "df_p1.loc[:, 'Não responderam'] = 0.0\n",
    "\n",
    "df_p1.loc[df_p1['P2_o'].isna(), 'Não responderam'] = 1.0\n",
    "\n",
    "df_p1.loc[df_p1['P2_o'].isna(), 'P2_o'] = 'Não responderam'\n",
    "\n",
    "df_p1\n"
   ]
  },
  {
   "cell_type": "code",
   "execution_count": null,
   "id": "241bd4d1",
   "metadata": {
    "papermill": {
     "duration": 0.004534,
     "end_time": "2024-08-17T15:18:21.872142",
     "exception": false,
     "start_time": "2024-08-17T15:18:21.867608",
     "status": "completed"
    },
    "tags": []
   },
   "outputs": [],
   "source": []
  }
 ],
 "metadata": {
  "kaggle": {
   "accelerator": "none",
   "dataSources": [
    {
     "datasetId": 5242826,
     "sourceId": 8734113,
     "sourceType": "datasetVersion"
    }
   ],
   "dockerImageVersionId": 30746,
   "isGpuEnabled": false,
   "isInternetEnabled": true,
   "language": "python",
   "sourceType": "notebook"
  },
  "kernelspec": {
   "display_name": "Python 3",
   "language": "python",
   "name": "python3"
  },
  "language_info": {
   "codemirror_mode": {
    "name": "ipython",
    "version": 3
   },
   "file_extension": ".py",
   "mimetype": "text/x-python",
   "name": "python",
   "nbconvert_exporter": "python",
   "pygments_lexer": "ipython3",
   "version": "3.10.13"
  },
  "papermill": {
   "default_parameters": {},
   "duration": 6.455289,
   "end_time": "2024-08-17T15:18:22.498704",
   "environment_variables": {},
   "exception": null,
   "input_path": "__notebook__.ipynb",
   "output_path": "__notebook__.ipynb",
   "parameters": {},
   "start_time": "2024-08-17T15:18:16.043415",
   "version": "2.5.0"
  }
 },
 "nbformat": 4,
 "nbformat_minor": 5
}
